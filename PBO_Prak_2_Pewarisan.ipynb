{
  "nbformat": 4,
  "nbformat_minor": 0,
  "metadata": {
    "colab": {
      "provenance": [],
      "authorship_tag": "ABX9TyPragLyO9D1Oa82sX1/G2kz",
      "include_colab_link": true
    },
    "kernelspec": {
      "name": "python3",
      "display_name": "Python 3"
    },
    "language_info": {
      "name": "python"
    }
  },
  "cells": [
    {
      "cell_type": "markdown",
      "metadata": {
        "id": "view-in-github",
        "colab_type": "text"
      },
      "source": [
        "<a href=\"https://colab.research.google.com/github/AdRavi89/Belajar-Newbie-PYTHON/blob/main/PBO_Prak_2_Pewarisan.ipynb\" target=\"_parent\"><img src=\"https://colab.research.google.com/assets/colab-badge.svg\" alt=\"Open In Colab\"/></a>"
      ]
    },
    {
      "cell_type": "markdown",
      "source": [
        "Pewarisan"
      ],
      "metadata": {
        "id": "QycnUA_qAXS5"
      }
    },
    {
      "cell_type": "code",
      "execution_count": 1,
      "metadata": {
        "id": "t-t-dlNLAWEs"
      },
      "outputs": [],
      "source": [
        "class segitiga:\n",
        "  def __init__(self, sisi_a, sisi_b, sisi_c):\n",
        "    self.sisi_a = sisi_a\n",
        "    self.sisi_b = sisi_b\n",
        "    self.sisi_c = sisi_c\n",
        "\n",
        "  def hitung_keliling(self):\n",
        "    return self.sisi_a + self.sisi_b + self.sisi_c\n",
        "\n",
        "  def tampilkan_sisi(self):\n",
        "    print(f\"Sisi A : {self.sisi_a}, Sisi B : {self.sisi_b}, Sisi C : {self.sisi_c}\")"
      ]
    },
    {
      "cell_type": "code",
      "source": [
        "class SegitigaSikuSiku(segitiga):\n",
        "  def hitung_luas(self):\n",
        "    return 0.5 * self.sisi_a * self.sisi_b\n",
        "\n",
        "  def tampilkan_jenis(self):\n",
        "    print(\"Segitiga ini adalah segitiga siku-siku\")"
      ],
      "metadata": {
        "id": "aEHRZr5SCdd1"
      },
      "execution_count": 3,
      "outputs": []
    },
    {
      "cell_type": "code",
      "source": [
        "segitiga_siku = SegitigaSikuSiku (3,4,5)\n",
        "segitiga_siku.tampilkan_sisi()\n",
        "segitiga_siku. tampilkan_jenis()\n",
        "keliling = segitiga_siku.hitung_keliling()\n",
        "luas = segitiga_siku.hitung_luas()\n",
        "\n",
        "print(f\"Keliling : {keliling}\")\n",
        "print (f\"luas : {luas}\")"
      ],
      "metadata": {
        "colab": {
          "base_uri": "https://localhost:8080/"
        },
        "id": "l9NfQZyyC5GZ",
        "outputId": "233cb6da-a6fa-489b-c9e0-14b71677ada2"
      },
      "execution_count": 8,
      "outputs": [
        {
          "output_type": "stream",
          "name": "stdout",
          "text": [
            "Sisi A : 3, Sisi B : 4, Sisi C : 5\n",
            "Segitiga ini adalah segitiga siku-siku\n",
            "Keliling : 12\n",
            "luas : 6.0\n"
          ]
        }
      ]
    }
  ]
}