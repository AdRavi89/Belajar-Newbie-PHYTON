{
  "cells": [
    {
      "cell_type": "markdown",
      "metadata": {
        "id": "view-in-github",
        "colab_type": "text"
      },
      "source": [
        "<a href=\"https://colab.research.google.com/github/AdRavi89/Belajar-Newbie-PHYTON/blob/main/03_conditionals.ipynb\" target=\"_parent\"><img src=\"https://colab.research.google.com/assets/colab-badge.svg\" alt=\"Open In Colab\"/></a>"
      ]
    },
    {
      "cell_type": "markdown",
      "metadata": {
        "id": "EA90zeKJlrPe"
      },
      "source": [
        "# Conditionals"
      ]
    },
    {
      "cell_type": "markdown",
      "metadata": {
        "id": "m8JAH_EulrPj"
      },
      "source": [
        "## Testing truth value"
      ]
    },
    {
      "cell_type": "markdown",
      "metadata": {
        "id": "Fho5WBL8lrPk"
      },
      "source": [
        "### `bool`"
      ]
    },
    {
      "cell_type": "code",
      "execution_count": 1,
      "metadata": {
        "colab": {
          "base_uri": "https://localhost:8080/"
        },
        "id": "IX73tUlulrPl",
        "outputId": "bbeaf238-ee8a-4afe-b9f0-45ea439b0c53"
      },
      "outputs": [
        {
          "output_type": "stream",
          "name": "stdout",
          "text": [
            "type of True and False: <class 'bool'>\n"
          ]
        }
      ],
      "source": [
        "print(f\"type of True and False: {type(True)}\")"
      ]
    },
    {
      "cell_type": "code",
      "execution_count": 2,
      "metadata": {
        "colab": {
          "base_uri": "https://localhost:8080/"
        },
        "id": "-NFa1He1lrPm",
        "outputId": "58fe7f79-1e9d-482e-d9f8-c3da4de9e9fd"
      },
      "outputs": [
        {
          "output_type": "stream",
          "name": "stdout",
          "text": [
            "0: False, 1: True\n",
            "empty list: False, list with values: True\n",
            "empty dict: False, dict with values: True\n"
          ]
        }
      ],
      "source": [
        "print(f\"0: {bool(0)}, 1: {bool(1)}\")\n",
        "print(f\"empty list: {bool([])}, list with values: {bool(['woop'])}\")\n",
        "print(f\"empty dict: {bool({})}, dict with values: {bool({'Python': 'cool'})}\")"
      ]
    },
    {
      "cell_type": "markdown",
      "metadata": {
        "id": "vrDIPhhqlrPn"
      },
      "source": [
        "### `==, !=, >, <, >=, <=`"
      ]
    },
    {
      "cell_type": "code",
      "execution_count": 3,
      "metadata": {
        "colab": {
          "base_uri": "https://localhost:8080/"
        },
        "id": "tCZtIYRIlrPo",
        "outputId": "0ab4a7a3-9385-4197-b348-b144c482f87d"
      },
      "outputs": [
        {
          "output_type": "stream",
          "name": "stdout",
          "text": [
            "False\n",
            "True\n",
            "True\n",
            "False\n",
            "False\n",
            "False\n",
            "True\n",
            "True\n",
            "False\n",
            "True\n"
          ]
        }
      ],
      "source": [
        "print(f\"{1 == 0}\")\n",
        "print(f\"{1 != 0}\")\n",
        "print(f\"{1 > 0}\")\n",
        "print(f\"{1 > 1}\")\n",
        "print(f\"{1 < 0}\")\n",
        "print(f\"{1 < 1}\")\n",
        "print(f\"{1 >= 0}\")\n",
        "print(f\"{1 >= 1}\")\n",
        "print(f\"{1 <= 0}\")\n",
        "print(f\"{1 <= 1}\")"
      ]
    },
    {
      "cell_type": "markdown",
      "metadata": {
        "id": "uIn3YjBplrPo"
      },
      "source": [
        "You can combine these:"
      ]
    },
    {
      "cell_type": "code",
      "execution_count": 4,
      "metadata": {
        "colab": {
          "base_uri": "https://localhost:8080/"
        },
        "id": "24ho1ri1lrPp",
        "outputId": "0c9672b2-108e-44aa-feff-ac15c83c304b"
      },
      "outputs": [
        {
          "output_type": "stream",
          "name": "stdout",
          "text": [
            "True\n"
          ]
        }
      ],
      "source": [
        "print(f\"{1 <= 2 <= 3}\")"
      ]
    },
    {
      "cell_type": "markdown",
      "metadata": {
        "id": "oyRRDEETlrPp"
      },
      "source": [
        "### `and, or, not`"
      ]
    },
    {
      "cell_type": "code",
      "execution_count": 5,
      "metadata": {
        "id": "UfHz4rxAlrPq"
      },
      "outputs": [],
      "source": [
        "python_is_cool = True\n",
        "java_is_cool = False\n",
        "empty_list = []\n",
        "secret_value = 3.14"
      ]
    },
    {
      "cell_type": "code",
      "execution_count": 6,
      "metadata": {
        "colab": {
          "base_uri": "https://localhost:8080/"
        },
        "id": "4x7vMe2_lrPq",
        "outputId": "3ea95988-def7-4dca-ba24-deeb1baf22fb"
      },
      "outputs": [
        {
          "output_type": "stream",
          "name": "stdout",
          "text": [
            "Python and java are both cool: False\n",
            "secret_value and python_is_cool: True\n"
          ]
        }
      ],
      "source": [
        "print(f\"Python and java are both cool: {python_is_cool and java_is_cool}\")\n",
        "print(f\"secret_value and python_is_cool: {secret_value and python_is_cool}\")"
      ]
    },
    {
      "cell_type": "code",
      "execution_count": 7,
      "metadata": {
        "colab": {
          "base_uri": "https://localhost:8080/"
        },
        "id": "i9edmxQBlrPq",
        "outputId": "ef5f54f8-ada3-4aba-e0ad-f0f78cbd528b"
      },
      "outputs": [
        {
          "output_type": "stream",
          "name": "stdout",
          "text": [
            "Python or java is cool: True\n",
            "False\n"
          ]
        }
      ],
      "source": [
        "print(f\"Python or java is cool: {python_is_cool or java_is_cool}\")\n",
        "print(f\"{1 >= 1.1 or 2 < 1.4}\")"
      ]
    },
    {
      "cell_type": "code",
      "execution_count": 8,
      "metadata": {
        "colab": {
          "base_uri": "https://localhost:8080/"
        },
        "id": "eJ5kgtTKlrPr",
        "outputId": "b7bded23-e845-4b78-c79b-4252e86f669e"
      },
      "outputs": [
        {
          "output_type": "stream",
          "name": "stdout",
          "text": [
            "Java is not cool: True\n"
          ]
        }
      ],
      "source": [
        "print(f\"Java is not cool: {not java_is_cool}\")"
      ]
    },
    {
      "cell_type": "markdown",
      "metadata": {
        "id": "24gvxfujlrPr"
      },
      "source": [
        "You can combine multiple statements, execution order is from left to right. You can control the execution order by using brackets."
      ]
    },
    {
      "cell_type": "code",
      "execution_count": 9,
      "metadata": {
        "colab": {
          "base_uri": "https://localhost:8080/"
        },
        "id": "ZzgY7EPWlrPr",
        "outputId": "3308faf9-40f8-4cc8-c12e-85dec25b3787"
      },
      "outputs": [
        {
          "output_type": "stream",
          "name": "stdout",
          "text": [
            "True\n",
            "False\n"
          ]
        }
      ],
      "source": [
        "print(bool(not java_is_cool or secret_value and python_is_cool or empty_list))\n",
        "print(bool(not (java_is_cool or secret_value and python_is_cool or empty_list)))"
      ]
    },
    {
      "cell_type": "markdown",
      "metadata": {
        "id": "Kf-Yu_cNlrPs"
      },
      "source": [
        "## `if`"
      ]
    },
    {
      "cell_type": "code",
      "execution_count": 10,
      "metadata": {
        "colab": {
          "base_uri": "https://localhost:8080/"
        },
        "id": "vmel7CsGlrPs",
        "outputId": "1753f0ea-5e03-4bec-88aa-0101d0a814e6"
      },
      "outputs": [
        {
          "output_type": "stream",
          "name": "stdout",
          "text": [
            "statement is True\n"
          ]
        }
      ],
      "source": [
        "statement = True\n",
        "if statement:\n",
        "    print(\"statement is True\")\n",
        "\n",
        "if not statement:\n",
        "    print(\"statement is not True\")"
      ]
    },
    {
      "cell_type": "code",
      "execution_count": 11,
      "metadata": {
        "id": "EzgmpDI8lrPs"
      },
      "outputs": [],
      "source": [
        "empty_list = []\n",
        "# With if and elif, conversion to `bool` is implicit\n",
        "if empty_list:\n",
        "    print(\"empty list will not evaluate to True\")  # this won't be executed"
      ]
    },
    {
      "cell_type": "code",
      "execution_count": 12,
      "metadata": {
        "colab": {
          "base_uri": "https://localhost:8080/"
        },
        "id": "0ycqv3eKlrPs",
        "outputId": "f3842cbb-f3c4-47c2-e5a8-9c7e3303bb18"
      },
      "outputs": [
        {
          "output_type": "stream",
          "name": "stdout",
          "text": [
            "Value is positive and less than one or value is three\n"
          ]
        }
      ],
      "source": [
        "val = 3\n",
        "if 0 <= val < 1 or val == 3:\n",
        "    print(\"Value is positive and less than one or value is three\")"
      ]
    },
    {
      "cell_type": "markdown",
      "metadata": {
        "id": "zcZVVSIilrPt"
      },
      "source": [
        "## `if-else`"
      ]
    },
    {
      "cell_type": "code",
      "execution_count": 13,
      "metadata": {
        "colab": {
          "base_uri": "https://localhost:8080/"
        },
        "id": "eWHaMonQlrPt",
        "outputId": "cdbc23b7-c3cd-42da-f935-4fece0f3be69"
      },
      "outputs": [
        {
          "output_type": "stream",
          "name": "stdout",
          "text": [
            "my dict is empty :(\n"
          ]
        }
      ],
      "source": [
        "my_dict = {}\n",
        "if my_dict:\n",
        "    print(\"there is something in my dict\")\n",
        "else:\n",
        "    print(\"my dict is empty :(\")"
      ]
    },
    {
      "cell_type": "markdown",
      "metadata": {
        "id": "JG0YeVNglrPt"
      },
      "source": [
        "## `if-elif-else`"
      ]
    },
    {
      "cell_type": "code",
      "execution_count": 14,
      "metadata": {
        "colab": {
          "base_uri": "https://localhost:8080/"
        },
        "id": "I5wwF59BlrPt",
        "outputId": "cfaf1cc5-3375-4939-cb51-d0123bdbd267"
      },
      "outputs": [
        {
          "output_type": "stream",
          "name": "stdout",
          "text": [
            "value is greater than 10 but less than 100\n"
          ]
        }
      ],
      "source": [
        "val = 88\n",
        "if val >= 100:\n",
        "    print(\"value is equal or greater than 100\")\n",
        "elif val > 10:\n",
        "    print(\"value is greater than 10 but less than 100\")\n",
        "else:\n",
        "    print(\"value is equal or less than 10\")"
      ]
    },
    {
      "cell_type": "markdown",
      "metadata": {
        "id": "XCnxJUE3lrPt"
      },
      "source": [
        "You can have as many `elif` statements as you need. In addition, `else` at the end is not mandatory."
      ]
    },
    {
      "cell_type": "code",
      "execution_count": 15,
      "metadata": {
        "colab": {
          "base_uri": "https://localhost:8080/"
        },
        "id": "icP0778wlrPt",
        "outputId": "56af3b14-b375-4b19-9873-58251396e44e"
      },
      "outputs": [
        {
          "output_type": "stream",
          "name": "stdout",
          "text": [
            "Hello fellow Pythonista!\n"
          ]
        }
      ],
      "source": [
        "greeting = \"Hello fellow Pythonista!\"\n",
        "language = \"Italian\"\n",
        "\n",
        "if language == \"Swedish\":\n",
        "    greeting = \"Hejsan!\"\n",
        "elif language == \"Finnish\":\n",
        "    greeting = \"Latua perkele!\"\n",
        "elif language == \"Spanish\":\n",
        "    greeting = \"Hola!\"\n",
        "elif language == \"German\":\n",
        "    greeting = \"Guten Tag!\"\n",
        "\n",
        "print(greeting)"
      ]
    },
    {
      "cell_type": "markdown",
      "metadata": {
        "id": "0PLKK_K7lrPu"
      },
      "source": [
        "For more detailed overview about conditionals, check this [tutorial from Real Python](https://realpython.com/python-conditional-statements/)."
      ]
    }
  ],
  "metadata": {
    "kernelspec": {
      "display_name": "Python 3 (ipykernel)",
      "language": "python",
      "name": "python3"
    },
    "language_info": {
      "codemirror_mode": {
        "name": "ipython",
        "version": 3
      },
      "file_extension": ".py",
      "mimetype": "text/x-python",
      "name": "python",
      "nbconvert_exporter": "python",
      "pygments_lexer": "ipython3",
      "version": "3.11.0"
    },
    "colab": {
      "provenance": [],
      "include_colab_link": true
    }
  },
  "nbformat": 4,
  "nbformat_minor": 0
}