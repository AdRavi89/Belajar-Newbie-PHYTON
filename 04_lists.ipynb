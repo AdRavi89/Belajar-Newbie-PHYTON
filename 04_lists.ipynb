{
  "cells": [
    {
      "cell_type": "markdown",
      "metadata": {
        "id": "view-in-github",
        "colab_type": "text"
      },
      "source": [
        "<a href=\"https://colab.research.google.com/github/AdRavi89/Belajar-Newbie-PYTHON/blob/main/04_lists.ipynb\" target=\"_parent\"><img src=\"https://colab.research.google.com/assets/colab-badge.svg\" alt=\"Open In Colab\"/></a>"
      ]
    },
    {
      "cell_type": "markdown",
      "metadata": {
        "id": "TICrL0nIrprw"
      },
      "source": [
        "# [Lists](https://docs.python.org/3/library/stdtypes.html#lists)"
      ]
    },
    {
      "cell_type": "code",
      "execution_count": null,
      "metadata": {
        "colab": {
          "base_uri": "https://localhost:8080/"
        },
        "id": "BRTntC97rpr5",
        "outputId": "e45c4ffd-4fb4-42e3-a0fb-67eb68d65f24"
      },
      "outputs": [
        {
          "output_type": "stream",
          "name": "stdout",
          "text": [
            "empty list: [], type: <class 'list'>\n"
          ]
        }
      ],
      "source": [
        "my_empty_list = []\n",
        "print(f\"empty list: {my_empty_list}, type: {type(my_empty_list)}\")"
      ]
    },
    {
      "cell_type": "code",
      "execution_count": null,
      "metadata": {
        "colab": {
          "base_uri": "https://localhost:8080/"
        },
        "id": "C4VQ4Aqtrpr9",
        "outputId": "267ded7e-99d5-4727-c22a-28c402c4208f"
      },
      "outputs": [
        {
          "output_type": "stream",
          "name": "stdout",
          "text": [
            "lengths: 4 and 6\n"
          ]
        }
      ],
      "source": [
        "list_of_ints = [1, 2, 6, 7]\n",
        "list_of_misc = [0.2, 5, \"Python\", \"is\", \"still fun\", \"!\"]\n",
        "print(f\"lengths: {len(list_of_ints)} and {len(list_of_misc)}\")"
      ]
    },
    {
      "cell_type": "markdown",
      "metadata": {
        "id": "uZlp0Ji3rpr-"
      },
      "source": [
        "## Accessing values"
      ]
    },
    {
      "cell_type": "code",
      "execution_count": null,
      "metadata": {
        "colab": {
          "base_uri": "https://localhost:8080/"
        },
        "id": "fU54VV0brpr_",
        "outputId": "7b8b35d1-e702-448e-c42c-19c0cfe3d7f3"
      },
      "outputs": [
        {
          "output_type": "stream",
          "name": "stdout",
          "text": [
            "Python\n",
            "cool\n"
          ]
        }
      ],
      "source": [
        "my_list = [\"Python\", \"is\", \"still\", \"cool\"]\n",
        "print(my_list[0])\n",
        "print(my_list[3])"
      ]
    },
    {
      "cell_type": "code",
      "execution_count": null,
      "metadata": {
        "colab": {
          "base_uri": "https://localhost:8080/"
        },
        "id": "YHKGSr5Lrpr_",
        "outputId": "c3929462-6eb1-4ac4-8a25-9907e3b26094"
      },
      "outputs": [
        {
          "output_type": "stream",
          "name": "stdout",
          "text": [
            "first coordinate: [12.0, 13.3]\n",
            "second element of first coordinate: 13.3\n"
          ]
        }
      ],
      "source": [
        "coordinates = [[12.0, 13.3], [0.6, 18.0], [88.0, 1.1]]  # two dimensional\n",
        "print(f\"first coordinate: {coordinates[0]}\")\n",
        "print(f\"second element of first coordinate: {coordinates[0][1]}\")"
      ]
    },
    {
      "cell_type": "markdown",
      "metadata": {
        "id": "IKnnbETqrpsA"
      },
      "source": [
        "## Updating values"
      ]
    },
    {
      "cell_type": "code",
      "execution_count": null,
      "metadata": {
        "colab": {
          "base_uri": "https://localhost:8080/"
        },
        "id": "hEaw_QlqrpsB",
        "outputId": "e151ffab-ab3d-4419-8fc3-41d24f924d2a"
      },
      "outputs": [
        {
          "output_type": "stream",
          "name": "stdout",
          "text": [
            "[99, 1, 2, 3, 4, 5]\n",
            "[1, 2, 3, 4, 5]\n"
          ]
        }
      ],
      "source": [
        "my_list = [0, 1, 2, 3, 4, 5]\n",
        "my_list[0] = 99\n",
        "print(my_list)\n",
        "\n",
        "# remove first value\n",
        "del my_list[0]\n",
        "print(my_list)"
      ]
    },
    {
      "cell_type": "markdown",
      "metadata": {
        "id": "L60t5V10rpsC"
      },
      "source": [
        "## Checking if certain value is present in list"
      ]
    },
    {
      "cell_type": "code",
      "execution_count": null,
      "metadata": {
        "colab": {
          "base_uri": "https://localhost:8080/"
        },
        "id": "1XPU1GExrpsD",
        "outputId": "7ab87c0f-6942-4f15-fdaa-99526110fbb7"
      },
      "outputs": [
        {
          "output_type": "stream",
          "name": "stdout",
          "text": [
            "Python is there!\n"
          ]
        }
      ],
      "source": [
        "languages = [\"Java\", \"C++\", \"Go\", \"Python\", \"JavaScript\"]\n",
        "if \"Python\" in languages:\n",
        "    print(\"Python is there!\")"
      ]
    },
    {
      "cell_type": "code",
      "execution_count": null,
      "metadata": {
        "colab": {
          "base_uri": "https://localhost:8080/"
        },
        "id": "cHQDwQdtrpsE",
        "outputId": "a55303ba-5682-46f1-ba3d-700e750d1f6d"
      },
      "outputs": [
        {
          "output_type": "stream",
          "name": "stdout",
          "text": [
            "number 6 is not present\n"
          ]
        }
      ],
      "source": [
        "if 6 not in [1, 2, 3, 7]:\n",
        "    print(\"number 6 is not present\")"
      ]
    },
    {
      "cell_type": "markdown",
      "metadata": {
        "id": "9ObMSR0grpsF"
      },
      "source": [
        "## List are mutable"
      ]
    },
    {
      "cell_type": "code",
      "execution_count": null,
      "metadata": {
        "colab": {
          "base_uri": "https://localhost:8080/"
        },
        "id": "-2SKBQ_6rpsF",
        "outputId": "15827557-7d01-45c4-b360-e0b56d4d230c"
      },
      "outputs": [
        {
          "output_type": "stream",
          "name": "stdout",
          "text": [
            "original: [99, 2, 3], modified: [99, 2, 3]\n"
          ]
        }
      ],
      "source": [
        "original = [1, 2, 3]\n",
        "modified = original\n",
        "modified[0] = 99\n",
        "print(f\"original: {original}, modified: {modified}\")"
      ]
    },
    {
      "cell_type": "markdown",
      "metadata": {
        "id": "9upqHL_QrpsG"
      },
      "source": [
        "You can get around this by creating new `list`:"
      ]
    },
    {
      "cell_type": "code",
      "execution_count": null,
      "metadata": {
        "colab": {
          "base_uri": "https://localhost:8080/"
        },
        "id": "hfcA9fiPrpsG",
        "outputId": "baf0841c-4c2f-4689-a84e-d104d5855f27"
      },
      "outputs": [
        {
          "output_type": "stream",
          "name": "stdout",
          "text": [
            "original: [1, 2, 3], modified: [99, 2, 3]\n"
          ]
        }
      ],
      "source": [
        "original = [1, 2, 3]\n",
        "modified = list(original)  # Note list()\n",
        "# Alternatively, you can use copy method\n",
        "# modified = original.copy()\n",
        "modified[0] = 99\n",
        "print(f\"original: {original}, modified: {modified}\")"
      ]
    },
    {
      "cell_type": "markdown",
      "metadata": {
        "id": "G12y7QimrpsH"
      },
      "source": [
        "## `list.append()`"
      ]
    },
    {
      "cell_type": "code",
      "execution_count": null,
      "metadata": {
        "colab": {
          "base_uri": "https://localhost:8080/"
        },
        "id": "v42cEtdHrpsH",
        "outputId": "ad358949-0baa-41dc-a0c4-19fbbc7cd226"
      },
      "outputs": [
        {
          "output_type": "stream",
          "name": "stdout",
          "text": [
            "[1, 'ham']\n"
          ]
        }
      ],
      "source": [
        "my_list = [1]\n",
        "my_list.append(\"ham\")\n",
        "print(my_list)"
      ]
    },
    {
      "cell_type": "markdown",
      "metadata": {
        "id": "aCGE53lMrpsI"
      },
      "source": [
        "## `list.remove()`"
      ]
    },
    {
      "cell_type": "code",
      "execution_count": null,
      "metadata": {
        "colab": {
          "base_uri": "https://localhost:8080/"
        },
        "id": "qQy1OlBLrpsI",
        "outputId": "bff94c59-3867-464b-fe30-6ea169e51c74"
      },
      "outputs": [
        {
          "output_type": "stream",
          "name": "stdout",
          "text": [
            "['Python', 'is', 'fun']\n",
            "Java is not part of this story.\n"
          ]
        }
      ],
      "source": [
        "my_list = [\"Python\", \"is\", \"sometimes\", \"fun\"]\n",
        "my_list.remove(\"sometimes\")\n",
        "print(my_list)\n",
        "\n",
        "# If you are not sure that the value is in list, better to check first:\n",
        "if \"Java\" in my_list:\n",
        "    my_list.remove(\"Java\")\n",
        "else:\n",
        "    print(\"Java is not part of this story.\")"
      ]
    },
    {
      "cell_type": "markdown",
      "metadata": {
        "id": "rln0KMnNrpsI"
      },
      "source": [
        "## `list.sort()`"
      ]
    },
    {
      "cell_type": "code",
      "execution_count": null,
      "metadata": {
        "colab": {
          "base_uri": "https://localhost:8080/"
        },
        "id": "CznTVWD_rpsJ",
        "outputId": "e4060d14-59d9-4477-b7f8-4d6f730ae18b"
      },
      "outputs": [
        {
          "output_type": "stream",
          "name": "stdout",
          "text": [
            "numbers: [1, 5, 6, 8, 10]\n",
            "numbers reversed: [10, 8, 6, 5, 1]\n",
            "words: ['a', 'is', 'list', 'of', 'this', 'words']\n"
          ]
        }
      ],
      "source": [
        "numbers = [8, 1, 6, 5, 10]\n",
        "numbers.sort()\n",
        "print(f\"numbers: {numbers}\")\n",
        "\n",
        "numbers.sort(reverse=True)\n",
        "print(f\"numbers reversed: {numbers}\")\n",
        "\n",
        "words = [\"this\", \"is\", \"a\", \"list\", \"of\", \"words\"]\n",
        "words.sort()\n",
        "print(f\"words: {words}\")"
      ]
    },
    {
      "cell_type": "markdown",
      "metadata": {
        "id": "6D1YqK3mrpsK"
      },
      "source": [
        "## `sorted(list)`\n",
        "While `list.sort()` sorts the list in-place, `sorted(list)` returns a new list and leaves the original untouched:"
      ]
    },
    {
      "cell_type": "code",
      "execution_count": null,
      "metadata": {
        "colab": {
          "base_uri": "https://localhost:8080/"
        },
        "id": "45cgobWWrpsK",
        "outputId": "e38dfb32-f748-426a-9426-d830fd2d18ed"
      },
      "outputs": [
        {
          "output_type": "stream",
          "name": "stdout",
          "text": [
            "numbers=[8, 1, 6, 5, 10], sorted_numbers=[1, 5, 6, 8, 10]\n"
          ]
        }
      ],
      "source": [
        "numbers = [8, 1, 6, 5, 10]\n",
        "sorted_numbers = sorted(numbers)\n",
        "print(f\"{numbers=}, {sorted_numbers=}\")"
      ]
    },
    {
      "cell_type": "markdown",
      "metadata": {
        "id": "GtDE0MmUrpsK"
      },
      "source": [
        "## `list.extend()`"
      ]
    },
    {
      "cell_type": "code",
      "execution_count": null,
      "metadata": {
        "colab": {
          "base_uri": "https://localhost:8080/"
        },
        "id": "N7_mahWnrpsK",
        "outputId": "89e4c58c-bfff-4f94-aff2-32dc57be98ea"
      },
      "outputs": [
        {
          "output_type": "stream",
          "name": "stdout",
          "text": [
            "first_list=['beef', 'ham', 'potatoes', 1, 3], second_list=['potatoes', 1, 3]\n"
          ]
        }
      ],
      "source": [
        "first_list = [\"beef\", \"ham\"]\n",
        "second_list = [\"potatoes\", 1, 3]\n",
        "first_list.extend(second_list)\n",
        "print(f\"{first_list=}, {second_list=}\")"
      ]
    },
    {
      "cell_type": "markdown",
      "metadata": {
        "id": "Tk7WVrtIrpsM"
      },
      "source": [
        "Alternatively you can also extend lists by summing them:"
      ]
    },
    {
      "cell_type": "code",
      "execution_count": null,
      "metadata": {
        "colab": {
          "base_uri": "https://localhost:8080/"
        },
        "id": "25VoHj5XrpsN",
        "outputId": "4ad98188-9f27-4649-c9cb-2be30e457dad"
      },
      "outputs": [
        {
          "output_type": "stream",
          "name": "stdout",
          "text": [
            "first=[1, 2, 3, 4, 5]\n"
          ]
        }
      ],
      "source": [
        "first = [1, 2, 3]\n",
        "second = [4, 5]\n",
        "first += second  # same as: first = first + second\n",
        "print(f\"{first=}\")"
      ]
    },
    {
      "cell_type": "markdown",
      "metadata": {
        "id": "Q3kfL63orpsN"
      },
      "source": [
        "## `list.reverse()`"
      ]
    },
    {
      "cell_type": "code",
      "execution_count": null,
      "metadata": {
        "colab": {
          "base_uri": "https://localhost:8080/"
        },
        "id": "Hy0M1yP4rpsN",
        "outputId": "31a9a548-73c9-413b-bf01-e7ac106cfe9f"
      },
      "outputs": [
        {
          "output_type": "stream",
          "name": "stdout",
          "text": [
            "['ham', 'b', 'a']\n"
          ]
        }
      ],
      "source": [
        "my_list = [\"a\", \"b\", \"ham\"]\n",
        "my_list.reverse()\n",
        "print(my_list)"
      ]
    }
  ],
  "metadata": {
    "kernelspec": {
      "display_name": "Python 3 (ipykernel)",
      "language": "python",
      "name": "python3"
    },
    "language_info": {
      "codemirror_mode": {
        "name": "ipython",
        "version": 3
      },
      "file_extension": ".py",
      "mimetype": "text/x-python",
      "name": "python",
      "nbconvert_exporter": "python",
      "pygments_lexer": "ipython3",
      "version": "3.11.0"
    },
    "colab": {
      "provenance": [],
      "include_colab_link": true
    }
  },
  "nbformat": 4,
  "nbformat_minor": 0
}