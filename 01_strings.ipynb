{
  "cells": [
    {
      "cell_type": "markdown",
      "metadata": {
        "id": "view-in-github",
        "colab_type": "text"
      },
      "source": [
        "<a href=\"https://colab.research.google.com/github/AdRavi89/Belajar-Newbie-PHYTON/blob/main/01_strings.ipynb\" target=\"_parent\"><img src=\"https://colab.research.google.com/assets/colab-badge.svg\" alt=\"Open In Colab\"/></a>"
      ]
    },
    {
      "cell_type": "markdown",
      "metadata": {
        "id": "cj8QCkaPWoib"
      },
      "source": [
        "# [Strings](https://docs.python.org/3/library/stdtypes.html#text-sequence-type-str)"
      ]
    },
    {
      "cell_type": "code",
      "execution_count": 1,
      "metadata": {
        "id": "2EwryTbBWoii"
      },
      "outputs": [],
      "source": [
        "my_string = \"Python is my favorite programming language!\""
      ]
    },
    {
      "cell_type": "code",
      "execution_count": 2,
      "metadata": {
        "colab": {
          "base_uri": "https://localhost:8080/",
          "height": 35
        },
        "id": "pBVR2j3GWoim",
        "outputId": "9902a72d-8f58-401a-8f5b-fa1d49c2cb19"
      },
      "outputs": [
        {
          "output_type": "execute_result",
          "data": {
            "text/plain": [
              "'Python is my favorite programming language!'"
            ],
            "application/vnd.google.colaboratory.intrinsic+json": {
              "type": "string"
            }
          },
          "metadata": {},
          "execution_count": 2
        }
      ],
      "source": [
        "my_string"
      ]
    },
    {
      "cell_type": "code",
      "execution_count": 3,
      "metadata": {
        "colab": {
          "base_uri": "https://localhost:8080/"
        },
        "id": "I5zJVBGQWoin",
        "outputId": "cec7e331-7c75-480a-eadb-cae8cac6dd69"
      },
      "outputs": [
        {
          "output_type": "execute_result",
          "data": {
            "text/plain": [
              "str"
            ]
          },
          "metadata": {},
          "execution_count": 3
        }
      ],
      "source": [
        "type(my_string)"
      ]
    },
    {
      "cell_type": "code",
      "execution_count": 4,
      "metadata": {
        "colab": {
          "base_uri": "https://localhost:8080/"
        },
        "id": "S7Q-VOa4Woio",
        "outputId": "8add2c50-7737-499a-ec35-8666c108e45d"
      },
      "outputs": [
        {
          "output_type": "execute_result",
          "data": {
            "text/plain": [
              "43"
            ]
          },
          "metadata": {},
          "execution_count": 4
        }
      ],
      "source": [
        "len(my_string)"
      ]
    },
    {
      "cell_type": "markdown",
      "metadata": {
        "id": "kd-I-nGDWoio"
      },
      "source": [
        "### Respecting [PEP8](https://www.python.org/dev/peps/pep-0008/#maximum-line-length) with long strings"
      ]
    },
    {
      "cell_type": "code",
      "execution_count": 5,
      "metadata": {
        "colab": {
          "base_uri": "https://localhost:8080/",
          "height": 53
        },
        "id": "5UjsDLMPWoip",
        "outputId": "cf3a7a1a-7153-425d-b844-f7c1dc786d7a"
      },
      "outputs": [
        {
          "output_type": "execute_result",
          "data": {
            "text/plain": [
              "'Lorem ipsum dolor sit amet, consectetur adipiscing elit.Pellentesque eget tincidunt felis. Ut ac vestibulum est.In sed ipsum sit amet sapien scelerisque bibendum. Sed sagittis purus eu diam fermentum pellentesque.'"
            ],
            "application/vnd.google.colaboratory.intrinsic+json": {
              "type": "string"
            }
          },
          "metadata": {},
          "execution_count": 5
        }
      ],
      "source": [
        "long_story = (\n",
        "    \"Lorem ipsum dolor sit amet, consectetur adipiscing elit.\"\n",
        "    \"Pellentesque eget tincidunt felis. Ut ac vestibulum est.\"\n",
        "    \"In sed ipsum sit amet sapien scelerisque bibendum. Sed \"\n",
        "    \"sagittis purus eu diam fermentum pellentesque.\"\n",
        ")\n",
        "long_story"
      ]
    },
    {
      "cell_type": "markdown",
      "metadata": {
        "id": "fYJncDiRWoiq"
      },
      "source": [
        "## `str.replace()`"
      ]
    },
    {
      "cell_type": "markdown",
      "metadata": {
        "id": "DwgFIGVsWoiq"
      },
      "source": [
        "If you don't know how it works, you can always check the `help`:"
      ]
    },
    {
      "cell_type": "code",
      "execution_count": 6,
      "metadata": {
        "colab": {
          "base_uri": "https://localhost:8080/"
        },
        "id": "sFzqEQviWoir",
        "outputId": "996a8c4b-e393-46eb-c138-83cbbd6c3567"
      },
      "outputs": [
        {
          "output_type": "stream",
          "name": "stdout",
          "text": [
            "Help on method_descriptor:\n",
            "\n",
            "replace(self, old, new, count=-1, /)\n",
            "    Return a copy with all occurrences of substring old replaced by new.\n",
            "    \n",
            "      count\n",
            "        Maximum number of occurrences to replace.\n",
            "        -1 (the default value) means replace all occurrences.\n",
            "    \n",
            "    If the optional argument count is given, only the first count occurrences are\n",
            "    replaced.\n",
            "\n"
          ]
        }
      ],
      "source": [
        "help(str.replace)"
      ]
    },
    {
      "cell_type": "markdown",
      "metadata": {
        "id": "_9ZznpNlWoir"
      },
      "source": [
        "This will not modify `my_string` because replace is not done in-place."
      ]
    },
    {
      "cell_type": "code",
      "execution_count": 7,
      "metadata": {
        "colab": {
          "base_uri": "https://localhost:8080/"
        },
        "id": "zMGpqcKkWoir",
        "outputId": "4210662c-4a7f-4b06-b001-6ef77e7ba40c"
      },
      "outputs": [
        {
          "output_type": "stream",
          "name": "stdout",
          "text": [
            "Python is my favorite programming language!\n"
          ]
        }
      ],
      "source": [
        "my_string.replace(\"a\", \"?\")\n",
        "print(my_string)"
      ]
    },
    {
      "cell_type": "markdown",
      "metadata": {
        "id": "v_3tfsVsWois"
      },
      "source": [
        "You have to store the return value of `replace` instead."
      ]
    },
    {
      "cell_type": "code",
      "execution_count": 8,
      "metadata": {
        "colab": {
          "base_uri": "https://localhost:8080/"
        },
        "id": "mZ7fEOCaWois",
        "outputId": "29b8029e-5e1d-429f-8781-5591c7ae4248"
      },
      "outputs": [
        {
          "output_type": "stream",
          "name": "stdout",
          "text": [
            "Python will be my favorite programming language!\n"
          ]
        }
      ],
      "source": [
        "my_modified_string = my_string.replace(\"is\", \"will be\")\n",
        "print(my_modified_string)"
      ]
    },
    {
      "cell_type": "markdown",
      "metadata": {
        "id": "qJBLr65TWois"
      },
      "source": [
        "## f-strings"
      ]
    },
    {
      "cell_type": "code",
      "execution_count": 9,
      "metadata": {
        "colab": {
          "base_uri": "https://localhost:8080/"
        },
        "id": "zH_oJPwOWois",
        "outputId": "3a325223-a434-4195-b9a1-1dde0f2106b8"
      },
      "outputs": [
        {
          "output_type": "stream",
          "name": "stdout",
          "text": [
            "My name is John Doe, you can call me John.\n",
            "I'm 88 years old.\n"
          ]
        }
      ],
      "source": [
        "first_name = \"John\"\n",
        "last_name = \"Doe\"\n",
        "age = 88\n",
        "print(f\"My name is {first_name} {last_name}, you can call me {first_name}.\")\n",
        "print(f\"I'm {age} years old.\")"
      ]
    },
    {
      "cell_type": "code",
      "execution_count": null,
      "metadata": {
        "id": "CP1_cUL1Woit"
      },
      "outputs": [],
      "source": [
        "print(f\"Use '=' to also print the variable name like this: {age=}\")"
      ]
    },
    {
      "cell_type": "markdown",
      "metadata": {
        "id": "oB2A67HvWoit"
      },
      "source": [
        "## `str.join()`"
      ]
    },
    {
      "cell_type": "code",
      "execution_count": 10,
      "metadata": {
        "id": "uVDLiU7pWoit"
      },
      "outputs": [],
      "source": [
        "pandas = \"pandas\"\n",
        "numpy = \"numpy\"\n",
        "requests = \"requests\"\n",
        "cool_python_libs = \", \".join([pandas, numpy, requests])"
      ]
    },
    {
      "cell_type": "code",
      "execution_count": 11,
      "metadata": {
        "colab": {
          "base_uri": "https://localhost:8080/"
        },
        "id": "7rcOx3_uWoiu",
        "outputId": "321c4b62-e169-46df-fdf9-d343692fc1ce"
      },
      "outputs": [
        {
          "output_type": "stream",
          "name": "stdout",
          "text": [
            "Some cool python libraries: pandas, numpy, requests\n"
          ]
        }
      ],
      "source": [
        "print(f\"Some cool python libraries: {cool_python_libs}\")"
      ]
    },
    {
      "cell_type": "markdown",
      "metadata": {
        "id": "VW68Y4FsWoiu"
      },
      "source": [
        "Alternative (not as [Pythonic](http://docs.python-guide.org/en/latest/writing/style/#idioms) and [slower](https://waymoot.org/home/python_string/)):"
      ]
    },
    {
      "cell_type": "code",
      "execution_count": 12,
      "metadata": {
        "colab": {
          "base_uri": "https://localhost:8080/"
        },
        "id": "v1fbC1khWoiu",
        "outputId": "03bcc344-dfa3-4541-83ae-789d876c70b4"
      },
      "outputs": [
        {
          "output_type": "stream",
          "name": "stdout",
          "text": [
            "Some cool python libraries: pandas, numpy, requests\n",
            "Some cool python libraries: pandas, numpy, requests\n"
          ]
        }
      ],
      "source": [
        "cool_python_libs = pandas + \", \" + numpy + \", \" + requests\n",
        "print(f\"Some cool python libraries: {cool_python_libs}\")\n",
        "\n",
        "cool_python_libs = pandas\n",
        "cool_python_libs += \", \" + numpy\n",
        "cool_python_libs += \", \" + requests\n",
        "print(f\"Some cool python libraries: {cool_python_libs}\")"
      ]
    },
    {
      "cell_type": "markdown",
      "metadata": {
        "id": "5Cu0fWW9Woiu"
      },
      "source": [
        "## `str.upper(), str.lower(), str.title()`"
      ]
    },
    {
      "cell_type": "code",
      "execution_count": 13,
      "metadata": {
        "id": "f6Qx14qmWoiu"
      },
      "outputs": [],
      "source": [
        "mixed_case = \"PyTHoN hackER\""
      ]
    },
    {
      "cell_type": "code",
      "execution_count": 14,
      "metadata": {
        "colab": {
          "base_uri": "https://localhost:8080/",
          "height": 35
        },
        "id": "lUJoNrdnWoiu",
        "outputId": "d2a2502d-0e76-45a1-b261-a74bcf014048"
      },
      "outputs": [
        {
          "output_type": "execute_result",
          "data": {
            "text/plain": [
              "'PYTHON HACKER'"
            ],
            "application/vnd.google.colaboratory.intrinsic+json": {
              "type": "string"
            }
          },
          "metadata": {},
          "execution_count": 14
        }
      ],
      "source": [
        "mixed_case.upper()"
      ]
    },
    {
      "cell_type": "code",
      "execution_count": 15,
      "metadata": {
        "colab": {
          "base_uri": "https://localhost:8080/",
          "height": 35
        },
        "id": "h44OhmlwWoiv",
        "outputId": "73df73fe-e7ce-4cc0-a85e-606479d3dc31"
      },
      "outputs": [
        {
          "output_type": "execute_result",
          "data": {
            "text/plain": [
              "'python hacker'"
            ],
            "application/vnd.google.colaboratory.intrinsic+json": {
              "type": "string"
            }
          },
          "metadata": {},
          "execution_count": 15
        }
      ],
      "source": [
        "mixed_case.lower()"
      ]
    },
    {
      "cell_type": "code",
      "execution_count": 16,
      "metadata": {
        "colab": {
          "base_uri": "https://localhost:8080/",
          "height": 35
        },
        "id": "CnrSwM4IWoiv",
        "outputId": "917e74a2-1aa0-4640-82f5-df0f826462ae"
      },
      "outputs": [
        {
          "output_type": "execute_result",
          "data": {
            "text/plain": [
              "'Python Hacker'"
            ],
            "application/vnd.google.colaboratory.intrinsic+json": {
              "type": "string"
            }
          },
          "metadata": {},
          "execution_count": 16
        }
      ],
      "source": [
        "mixed_case.title()"
      ]
    },
    {
      "cell_type": "markdown",
      "metadata": {
        "id": "9d54foKMWoiv"
      },
      "source": [
        "## `str.strip()`"
      ]
    },
    {
      "cell_type": "code",
      "execution_count": 17,
      "metadata": {
        "colab": {
          "base_uri": "https://localhost:8080/"
        },
        "id": "YRQ6o4s8Woiv",
        "outputId": "08f56c7c-6c93-433a-ce29-2ad28c5bc3b9"
      },
      "outputs": [
        {
          "output_type": "stream",
          "name": "stdout",
          "text": [
            "ugly:  \n",
            " \t Some story to tell \n",
            "stripped: Some story to tell\n"
          ]
        }
      ],
      "source": [
        "ugly_formatted = \" \\n \\t Some story to tell \"\n",
        "stripped = ugly_formatted.strip()\n",
        "\n",
        "print(f\"ugly: {ugly_formatted}\")\n",
        "print(f\"stripped: {stripped}\")"
      ]
    },
    {
      "cell_type": "markdown",
      "metadata": {
        "id": "epQcmj51Woix"
      },
      "source": [
        "## `str.split()`"
      ]
    },
    {
      "cell_type": "code",
      "execution_count": 18,
      "metadata": {
        "colab": {
          "base_uri": "https://localhost:8080/"
        },
        "id": "DmYvSZ2FWoiy",
        "outputId": "373c2d57-a388-45be-a148-80050b9964d4"
      },
      "outputs": [
        {
          "output_type": "stream",
          "name": "stdout",
          "text": [
            "['three', 'different', 'words']\n"
          ]
        }
      ],
      "source": [
        "sentence = \"three different words\"\n",
        "words = sentence.split()\n",
        "print(words)"
      ]
    },
    {
      "cell_type": "code",
      "execution_count": 19,
      "metadata": {
        "colab": {
          "base_uri": "https://localhost:8080/"
        },
        "id": "lKdZPyEJWoiy",
        "outputId": "f21e87e6-eadf-46bb-e1d5-a5f624aa38c5"
      },
      "outputs": [
        {
          "output_type": "execute_result",
          "data": {
            "text/plain": [
              "list"
            ]
          },
          "metadata": {},
          "execution_count": 19
        }
      ],
      "source": [
        "type(words)"
      ]
    },
    {
      "cell_type": "code",
      "execution_count": 20,
      "metadata": {
        "colab": {
          "base_uri": "https://localhost:8080/"
        },
        "id": "w1rCBbOZWoiy",
        "outputId": "ed3f3444-70e2-4cd8-fe2e-843a620bd5eb"
      },
      "outputs": [
        {
          "output_type": "stream",
          "name": "stdout",
          "text": [
            "['01001', '101101', '11100000']\n"
          ]
        }
      ],
      "source": [
        "secret_binary_data = \"01001,101101,11100000\"\n",
        "binaries = secret_binary_data.split(\",\")\n",
        "print(binaries)"
      ]
    },
    {
      "cell_type": "markdown",
      "metadata": {
        "id": "F6zw0RiKWoiy"
      },
      "source": [
        "## Calling multiple methods in a row"
      ]
    },
    {
      "cell_type": "code",
      "execution_count": 21,
      "metadata": {
        "colab": {
          "base_uri": "https://localhost:8080/"
        },
        "id": "sZ94CtPpWoiy",
        "outputId": "bf3e0885-0b69-4eec-8f31-8982d432cffb"
      },
      "outputs": [
        {
          "output_type": "stream",
          "name": "stdout",
          "text": [
            "this looks good\n"
          ]
        }
      ],
      "source": [
        "ugly_mixed_case = \"   ThIS LooKs BAd \"\n",
        "pretty = ugly_mixed_case.strip().lower().replace(\"bad\", \"good\")\n",
        "print(pretty)"
      ]
    },
    {
      "cell_type": "markdown",
      "metadata": {
        "id": "MVAL0d4BWoiz"
      },
      "source": [
        "Note that execution order is from left to right. Thus, this won't work:"
      ]
    },
    {
      "cell_type": "code",
      "execution_count": 22,
      "metadata": {
        "colab": {
          "base_uri": "https://localhost:8080/"
        },
        "id": "tdDRdhetWoiz",
        "outputId": "399422d8-14d1-44c4-a3a3-91a3bf1f26cc"
      },
      "outputs": [
        {
          "output_type": "stream",
          "name": "stdout",
          "text": [
            "this looks bad\n"
          ]
        }
      ],
      "source": [
        "pretty = ugly_mixed_case.replace(\"bad\", \"good\").strip().lower()\n",
        "print(pretty)"
      ]
    },
    {
      "cell_type": "markdown",
      "metadata": {
        "id": "D6iExqSuWoiz"
      },
      "source": [
        "## [Escape characters](http://python-reference.readthedocs.io/en/latest/docs/str/escapes.html#escape-characters)"
      ]
    },
    {
      "cell_type": "code",
      "execution_count": 23,
      "metadata": {
        "colab": {
          "base_uri": "https://localhost:8080/"
        },
        "id": "T6F-2h9JWoiz",
        "outputId": "8ca8dc8a-cf58-40f8-de70-5cdb0ace751a"
      },
      "outputs": [
        {
          "output_type": "stream",
          "name": "stdout",
          "text": [
            "First line\n",
            "Second line\n"
          ]
        }
      ],
      "source": [
        "two_lines = \"First line\\nSecond line\"\n",
        "print(two_lines)"
      ]
    },
    {
      "cell_type": "code",
      "execution_count": 24,
      "metadata": {
        "colab": {
          "base_uri": "https://localhost:8080/"
        },
        "id": "BlBBr5kjWojA",
        "outputId": "35834829-a7ca-41df-867e-788c53dd2ae4"
      },
      "outputs": [
        {
          "output_type": "stream",
          "name": "stdout",
          "text": [
            "\tThis will be indented\n"
          ]
        }
      ],
      "source": [
        "indented = \"\\tThis will be indented\"\n",
        "print(indented)"
      ]
    }
  ],
  "metadata": {
    "kernelspec": {
      "display_name": "Python 3 (ipykernel)",
      "language": "python",
      "name": "python3"
    },
    "language_info": {
      "codemirror_mode": {
        "name": "ipython",
        "version": 3
      },
      "file_extension": ".py",
      "mimetype": "text/x-python",
      "name": "python",
      "nbconvert_exporter": "python",
      "pygments_lexer": "ipython3",
      "version": "3.11.0"
    },
    "colab": {
      "provenance": [],
      "include_colab_link": true
    }
  },
  "nbformat": 4,
  "nbformat_minor": 0
}