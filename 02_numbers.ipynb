{
  "cells": [
    {
      "cell_type": "markdown",
      "metadata": {
        "id": "view-in-github",
        "colab_type": "text"
      },
      "source": [
        "<a href=\"https://colab.research.google.com/github/AdRavi89/Belajar-Newbie-PYTHON/blob/main/02_numbers.ipynb\" target=\"_parent\"><img src=\"https://colab.research.google.com/assets/colab-badge.svg\" alt=\"Open In Colab\"/></a>"
      ]
    },
    {
      "cell_type": "markdown",
      "metadata": {
        "id": "xDM5F-1weoum"
      },
      "source": [
        "# [Numbers](https://docs.python.org/3/library/stdtypes.html#numeric-types-int-float-complex)"
      ]
    },
    {
      "cell_type": "markdown",
      "metadata": {
        "id": "siYNJLRfeouq"
      },
      "source": [
        "## `int`"
      ]
    },
    {
      "cell_type": "code",
      "execution_count": null,
      "metadata": {
        "id": "3JVdTZ7Teour",
        "outputId": "1d310707-2ba0-4a7b-9bca-226a9692f90c",
        "colab": {
          "base_uri": "https://localhost:8080/"
        }
      },
      "outputs": [
        {
          "output_type": "stream",
          "name": "stdout",
          "text": [
            "value: 6, type: <class 'int'>\n"
          ]
        }
      ],
      "source": [
        "my_int = 6\n",
        "print(f\"value: {my_int}, type: {type(my_int)}\")"
      ]
    },
    {
      "cell_type": "markdown",
      "metadata": {
        "id": "YKfw6LsDeous"
      },
      "source": [
        "## `float`"
      ]
    },
    {
      "cell_type": "code",
      "execution_count": null,
      "metadata": {
        "id": "v7NKfrCmeout",
        "outputId": "9af2c374-ab3d-4886-a301-b2678858c844",
        "colab": {
          "base_uri": "https://localhost:8080/"
        }
      },
      "outputs": [
        {
          "output_type": "stream",
          "name": "stdout",
          "text": [
            "value: 6.0, type: <class 'float'>\n"
          ]
        }
      ],
      "source": [
        "my_float = float(my_int)\n",
        "print(f\"value: {my_float}, type: {type(my_float)}\")"
      ]
    },
    {
      "cell_type": "markdown",
      "metadata": {
        "id": "zQR1Iyl7eout"
      },
      "source": [
        "Note that division of `int`s produces `float`:"
      ]
    },
    {
      "cell_type": "code",
      "execution_count": null,
      "metadata": {
        "id": "uzS8gqTgeout",
        "outputId": "ff4bade9-c570-4121-8ced-33f270347b8c",
        "colab": {
          "base_uri": "https://localhost:8080/"
        }
      },
      "outputs": [
        {
          "output_type": "stream",
          "name": "stdout",
          "text": [
            "1.0\n",
            "1.2\n"
          ]
        }
      ],
      "source": [
        "print(1 / 1)\n",
        "print(6 / 5)"
      ]
    },
    {
      "cell_type": "markdown",
      "metadata": {
        "id": "WlINKOReeouu"
      },
      "source": [
        "Be aware of the binary floating-point pitfalls (see [Decimal](#decimal) for workaround):"
      ]
    },
    {
      "cell_type": "code",
      "execution_count": null,
      "metadata": {
        "id": "9TSVLoAIeouu",
        "outputId": "56da5294-2eb9-4375-b785-7b6eca86a288",
        "colab": {
          "base_uri": "https://localhost:8080/"
        }
      },
      "outputs": [
        {
          "output_type": "stream",
          "name": "stdout",
          "text": [
            "False\n",
            "0.30000000000000004\n"
          ]
        }
      ],
      "source": [
        "val = 0.1 + 0.1 + 0.1\n",
        "print(val == 0.3)\n",
        "print(val)"
      ]
    },
    {
      "cell_type": "markdown",
      "metadata": {
        "id": "p5L8Q4aheouu"
      },
      "source": [
        "## Floor division `//`, modulus `%`, power `**`"
      ]
    },
    {
      "cell_type": "code",
      "execution_count": null,
      "metadata": {
        "id": "nO5ZpRTneouu",
        "outputId": "469869ef-2a3f-4b30-c32e-e7522a193475",
        "colab": {
          "base_uri": "https://localhost:8080/"
        }
      },
      "outputs": [
        {
          "output_type": "execute_result",
          "data": {
            "text/plain": [
              "1"
            ]
          },
          "metadata": {},
          "execution_count": 5
        }
      ],
      "source": [
        "7 // 5"
      ]
    },
    {
      "cell_type": "code",
      "execution_count": null,
      "metadata": {
        "id": "8xc5Ci4eeouv",
        "outputId": "be3f5eee-9769-4470-ba5e-3cd38a7cf7c9",
        "colab": {
          "base_uri": "https://localhost:8080/"
        }
      },
      "outputs": [
        {
          "output_type": "execute_result",
          "data": {
            "text/plain": [
              "2"
            ]
          },
          "metadata": {},
          "execution_count": 6
        }
      ],
      "source": [
        "7 % 5"
      ]
    },
    {
      "cell_type": "code",
      "execution_count": null,
      "metadata": {
        "id": "rRyYFEpaeouv",
        "outputId": "7e9833bd-b27e-4683-c3b8-e5f74a466f1b",
        "colab": {
          "base_uri": "https://localhost:8080/"
        }
      },
      "outputs": [
        {
          "output_type": "execute_result",
          "data": {
            "text/plain": [
              "8"
            ]
          },
          "metadata": {},
          "execution_count": 7
        }
      ],
      "source": [
        "2**3"
      ]
    },
    {
      "cell_type": "markdown",
      "metadata": {
        "id": "JXvk60cdeouv"
      },
      "source": [
        "<a id='decimal'></a>\n",
        "## [`decimal.Decimal`](https://docs.python.org/3/library/decimal.html)"
      ]
    },
    {
      "cell_type": "code",
      "execution_count": null,
      "metadata": {
        "id": "snse2f5Feouv"
      },
      "outputs": [],
      "source": [
        "from decimal import Decimal"
      ]
    },
    {
      "cell_type": "code",
      "execution_count": null,
      "metadata": {
        "id": "sFT-HD3Ueouw",
        "outputId": "12b55c72-4a1c-46cf-99a9-c11b8ce00614",
        "colab": {
          "base_uri": "https://localhost:8080/"
        }
      },
      "outputs": [
        {
          "output_type": "stream",
          "name": "stdout",
          "text": [
            "from float: 0.1000000000000000055511151231257827021181583404541015625\n",
            "from string: 0.1\n"
          ]
        }
      ],
      "source": [
        "from_float = Decimal(0.1)\n",
        "from_str = Decimal(\"0.1\")\n",
        "print(f\"from float: {from_float}\\nfrom string: {from_str}\")"
      ]
    },
    {
      "cell_type": "code",
      "execution_count": null,
      "metadata": {
        "id": "wAzGmeA7eouw",
        "outputId": "63bd174a-2da2-4d91-af07-3adf8b771770",
        "colab": {
          "base_uri": "https://localhost:8080/"
        }
      },
      "outputs": [
        {
          "output_type": "stream",
          "name": "stdout",
          "text": [
            "True\n"
          ]
        }
      ],
      "source": [
        "my_decimal = Decimal(\"0.1\")\n",
        "sum_of_decimals = my_decimal + my_decimal + my_decimal\n",
        "print(sum_of_decimals == Decimal(\"0.3\"))"
      ]
    },
    {
      "cell_type": "markdown",
      "metadata": {
        "id": "ZeQVvaJCeoux"
      },
      "source": [
        "## Operator precedence in calculations\n",
        "Mathematical operator precedence applies. Use brackets if you want to change the execution order:"
      ]
    },
    {
      "cell_type": "code",
      "execution_count": null,
      "metadata": {
        "id": "zwwen72geoux",
        "outputId": "d0c0334c-c5be-4085-a616-318b814eeb75",
        "colab": {
          "base_uri": "https://localhost:8080/"
        }
      },
      "outputs": [
        {
          "output_type": "stream",
          "name": "stdout",
          "text": [
            "3.0\n",
            "2.5\n"
          ]
        }
      ],
      "source": [
        "print(1 + 2**2 * 3 / 6)  # 1 + 4 * 3 / 6 == 1 + 12 / 6 == 1 + 2\n",
        "print((1 + 2**2) * 3 / 6)"
      ]
    }
  ],
  "metadata": {
    "kernelspec": {
      "display_name": "Python 3 (ipykernel)",
      "language": "python",
      "name": "python3"
    },
    "language_info": {
      "codemirror_mode": {
        "name": "ipython",
        "version": 3
      },
      "file_extension": ".py",
      "mimetype": "text/x-python",
      "name": "python",
      "nbconvert_exporter": "python",
      "pygments_lexer": "ipython3",
      "version": "3.11.0"
    },
    "colab": {
      "provenance": [],
      "include_colab_link": true
    }
  },
  "nbformat": 4,
  "nbformat_minor": 0
}